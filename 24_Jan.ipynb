{
 "cells": [
  {
   "cell_type": "markdown",
   "id": "9d198e24-5051-4b61-a35e-281947fa6da4",
   "metadata": {},
   "source": [
    "#1\n",
    "A Python library is a collection of pre-written code that provides functionality to perform common tasks without having to write the code from scratch. These libraries contain functions, classes, and modules that help with specific operations, such as mathematics, data manipulation, web development, machine learning, and more."
   ]
  },
  {
   "cell_type": "markdown",
   "id": "48b9746f-8f12-4622-a5ce-636b3ca97755",
   "metadata": {},
   "source": [
    "#2\n",
    "NumPy Array: Optimized for numerical computations, faster, supports element-wise operations, and is memory efficient.\n",
    "Python List: More flexible in terms of holding different data types, but slower for numerical tasks and lacks advanced mathematical operations."
   ]
  },
  {
   "cell_type": "code",
   "execution_count": 3,
   "id": "a7c18c6a-39f3-4639-bc49-f9d27d3aecbe",
   "metadata": {},
   "outputs": [
    {
     "name": "stdout",
     "output_type": "stream",
     "text": [
      "2\n",
      "(3, 4)\n"
     ]
    }
   ],
   "source": [
    "#3\n",
    "import numpy as np\n",
    "a=[[1, 2, 3, 4],\n",
    "[5, 6, 7, 8],\n",
    "[9, 10, 11, 12]]\n",
    "a=np.array(a)\n",
    "print(np.ndim(a))\n",
    "print(np.shape(a))"
   ]
  },
  {
   "cell_type": "code",
   "execution_count": 5,
   "id": "1d4a8521-3f5d-4979-8d28-addab12e384c",
   "metadata": {},
   "outputs": [
    {
     "data": {
      "text/plain": [
       "array([1, 2, 3, 4])"
      ]
     },
     "execution_count": 5,
     "metadata": {},
     "output_type": "execute_result"
    }
   ],
   "source": [
    "#4\n",
    "a[0]"
   ]
  },
  {
   "cell_type": "code",
   "execution_count": 7,
   "id": "2502db95-19f9-444f-92a8-ab9624440cd5",
   "metadata": {},
   "outputs": [
    {
     "data": {
      "text/plain": [
       "12"
      ]
     },
     "execution_count": 7,
     "metadata": {},
     "output_type": "execute_result"
    }
   ],
   "source": [
    "#5\n",
    "a[2,3]"
   ]
  },
  {
   "cell_type": "code",
   "execution_count": 9,
   "id": "486c7888-3e69-438a-b946-d432ab40b3ea",
   "metadata": {},
   "outputs": [
    {
     "data": {
      "text/plain": [
       "array([[6, 8]])"
      ]
     },
     "execution_count": 9,
     "metadata": {},
     "output_type": "execute_result"
    }
   ],
   "source": [
    "#6\n",
    "a[1::2,1::2]"
   ]
  },
  {
   "cell_type": "code",
   "execution_count": 11,
   "id": "1db9ec90-0ebb-41c9-bfbf-40777ea9d9ec",
   "metadata": {},
   "outputs": [
    {
     "data": {
      "text/plain": [
       "array([[0.06977851, 0.94437396, 0.93439766],\n",
       "       [0.83861733, 0.36452807, 0.73365516],\n",
       "       [0.76128247, 0.57751737, 0.6984853 ]])"
      ]
     },
     "execution_count": 11,
     "metadata": {},
     "output_type": "execute_result"
    }
   ],
   "source": [
    "#7\n",
    "np.random.rand(3,3)"
   ]
  },
  {
   "cell_type": "code",
   "execution_count": 13,
   "id": "06c71b2f-f1bb-4fe8-8004-0e8f2e3fac33",
   "metadata": {},
   "outputs": [],
   "source": [
    "#8\n",
    "#the major difference between random.rand and random.randn is that rand gives positive numbers and randn gives negative values."
   ]
  },
  {
   "cell_type": "code",
   "execution_count": 15,
   "id": "fbde8416-1671-4aa2-9fcf-48b9957ac500",
   "metadata": {},
   "outputs": [
    {
     "data": {
      "text/plain": [
       "array([[[ 1,  2,  3,  4],\n",
       "        [ 5,  6,  7,  8],\n",
       "        [ 9, 10, 11, 12]]])"
      ]
     },
     "execution_count": 15,
     "metadata": {},
     "output_type": "execute_result"
    }
   ],
   "source": [
    "#9\n",
    "np.expand_dims(a,axis=0)"
   ]
  },
  {
   "cell_type": "code",
   "execution_count": 17,
   "id": "12f9c795-6a6a-4458-8c9c-6e37ae0850b4",
   "metadata": {},
   "outputs": [
    {
     "data": {
      "text/plain": [
       "array([[ 1,  5,  9],\n",
       "       [ 2,  6, 10],\n",
       "       [ 3,  7, 11],\n",
       "       [ 4,  8, 12]])"
      ]
     },
     "execution_count": 17,
     "metadata": {},
     "output_type": "execute_result"
    }
   ],
   "source": [
    "#10\n",
    "np.transpose(a)"
   ]
  },
  {
   "cell_type": "code",
   "execution_count": 19,
   "id": "fa3711ea-2438-43be-85d2-f1e0e67044ca",
   "metadata": {},
   "outputs": [
    {
     "name": "stdout",
     "output_type": "stream",
     "text": [
      "[[  1   4   9  16]\n",
      " [ 25  36  49  64]\n",
      " [ 81 100 121 144]]\n",
      "\n",
      "[[ 30  70 110]\n",
      " [ 70 174 278]\n",
      " [110 278 446]]\n",
      "\n",
      "[[ 2  4  6  8]\n",
      " [10 12 14 16]\n",
      " [18 20 22 24]]\n",
      "\n",
      "[[0 0 0 0]\n",
      " [0 0 0 0]\n",
      " [0 0 0 0]]\n",
      "\n",
      "[[1. 1. 1. 1.]\n",
      " [1. 1. 1. 1.]\n",
      " [1. 1. 1. 1.]]\n"
     ]
    }
   ],
   "source": [
    "#11\n",
    "A=np.array(a)\n",
    "B=np.array(a)\n",
    "print(A*B)\n",
    "print()\n",
    "print(np.dot(A,B.T))\n",
    "print()\n",
    "print(A+B)\n",
    "print()\n",
    "print(B-A)\n",
    "print()\n",
    "print(B/A)"
   ]
  },
  {
   "cell_type": "code",
   "execution_count": 21,
   "id": "6f899879-6449-48fa-b597-2b740d01f240",
   "metadata": {},
   "outputs": [
    {
     "data": {
      "text/plain": [
       "array([[ 16777216,  33554432,  50331648,  67108864],\n",
       "       [ 83886080, 100663296, 117440512, 134217728],\n",
       "       [150994944, 167772160, 184549376, 201326592]])"
      ]
     },
     "execution_count": 21,
     "metadata": {},
     "output_type": "execute_result"
    }
   ],
   "source": [
    "#12\n",
    "A.byteswap()"
   ]
  },
  {
   "cell_type": "code",
   "execution_count": 27,
   "id": "0819c274-dbe1-4b2d-b80b-5205ca0e494c",
   "metadata": {},
   "outputs": [
    {
     "data": {
      "text/plain": [
       "array([[ 0.        , -0.07692308,  0.30769231],\n",
       "       [-1.        ,  1.38461538, -0.53846154],\n",
       "       [ 1.        , -1.07692308,  0.30769231]])"
      ]
     },
     "execution_count": 27,
     "metadata": {},
     "output_type": "execute_result"
    }
   ],
   "source": [
    "#13\n",
    "# np.linalg.inv function work to gets the inverse of square matrix A-1.\n",
    "a=np.array([[2,4,5],[3,4,4],[4,1,1]])\n",
    "np.linalg.inv(a)"
   ]
  },
  {
   "cell_type": "code",
   "execution_count": 37,
   "id": "6185d4e2-8412-41d2-9cbe-064e72d145dd",
   "metadata": {},
   "outputs": [
    {
     "data": {
      "text/plain": [
       "array([[2, 4, 5, 3, 4, 4, 4, 1, 1]])"
      ]
     },
     "execution_count": 37,
     "metadata": {},
     "output_type": "execute_result"
    }
   ],
   "source": [
    "#14\n",
    "# np.reshape is reshape the matrix.\n",
    "np.reshape(a,(1,9))"
   ]
  },
  {
   "cell_type": "code",
   "execution_count": 39,
   "id": "b3558bf7-df6d-4da2-9af6-768bd397707f",
   "metadata": {},
   "outputs": [
    {
     "name": "stdout",
     "output_type": "stream",
     "text": [
      "[[11 22 33]\n",
      " [14 25 36]\n",
      " [17 28 39]]\n"
     ]
    }
   ],
   "source": [
    "#15\n",
    "#Broadcasting in NumPy refers to the ability of NumPy to perform element-wise operations on arrays of different shapes without explicitly reshaping them. Broadcasting makes array arithmetic more efficient by automatically expanding the smaller array to match the shape of the larger array during operations, without creating unnecessary copies of data.\n",
    "import numpy as np\n",
    "\n",
    "A = np.array([[1, 2, 3],\n",
    "              [4, 5, 6],\n",
    "              [7, 8, 9]])\n",
    "\n",
    "B = np.array([[10, 20, 30]])\n",
    "\n",
    "# Broadcasting the smaller array B across A\n",
    "result = A + B\n",
    "\n",
    "print(result)\n"
   ]
  },
  {
   "cell_type": "code",
   "execution_count": null,
   "id": "ac466111-d8b2-4cca-80c8-d9325f2c2b6d",
   "metadata": {},
   "outputs": [],
   "source": []
  }
 ],
 "metadata": {
  "kernelspec": {
   "display_name": "Python 3 (ipykernel)",
   "language": "python",
   "name": "python3"
  },
  "language_info": {
   "codemirror_mode": {
    "name": "ipython",
    "version": 3
   },
   "file_extension": ".py",
   "mimetype": "text/x-python",
   "name": "python",
   "nbconvert_exporter": "python",
   "pygments_lexer": "ipython3",
   "version": "3.12.4"
  }
 },
 "nbformat": 4,
 "nbformat_minor": 5
}
